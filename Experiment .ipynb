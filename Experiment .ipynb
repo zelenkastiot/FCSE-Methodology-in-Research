{
 "cells": [
  {
   "cell_type": "markdown",
   "metadata": {},
   "source": [
    "<h1> <center> Paper clip experiment </center> </h1> "
   ]
  },
  {
   "cell_type": "markdown",
   "metadata": {},
   "source": [
    "### Idea"
   ]
  },
  {
   "cell_type": "markdown",
   "metadata": {},
   "source": [
    "***\n",
    "Before my second exam I was given a task to elaborate an experiment I would like to do. Firstly, I didn’t know what to do. I really wanted to prove the experiment that I chose not just to elaborate it. I had a short period of time to figure out what do nevertheless to prove it. So after a while I figured why not choose something that at the same time is really fascinating and fundamental yet easy to prove - the **Pareto Principle**. This incredible helpful principle is so present in our daily lifes that is even hilarious. People acctualy proved that this pattern emerges in word frequencies of langugaes, something as complex as written language has a principle that simple things as healthy pea pods have. So I wanted to find the most bizzare idea I could come up with to prove that the rich get richer: therfore the single paper clip. \n",
    "<img src=\"PaperClip2.jpg\">\n",
    "   <figcaption>\n",
    "        <center>\n",
    "            Figure 1: Signle Paper Clip    \n",
    "        </center>\n",
    "    </figcaption>\n",
    "    \n",
    "**Question:** How to prove the Pareto principle using paper clips? I will start of with a little history. "
   ]
  },
  {
   "cell_type": "markdown",
   "metadata": {},
   "source": [
    "### History "
   ]
  },
  {
   "cell_type": "markdown",
   "metadata": {},
   "source": [
    "***\n",
    "The Pareto Principle was founded by **Vilfredo Damaso Pareto**, an Italian economist in 1896. Pareto, an amateur gardener, noticed one day that 20% of the pea plants generated 80% of the healthy pea pods. This observation led him to think about uneven distribution. \n",
    "<img src=\"VilfredoPareto.jpg\">\n",
    "   <figcaption>\n",
    "        <center>\n",
    "            Figure 2: Vilfredo Damaso Pareto (Source: Medimum article)\n",
    "        </center>\n",
    "    </figcaption>\n",
    "    \n",
    "He observed this same principle elsewhere. For example, he also realized in Italy where he lived, 80% of the land was owned by 20% of the people. He further investigated different industries and found that 80% of production typically came from 20% of the companies. This generalization became the Pareto Principle (the term was introduces by the Dr. Joseph Juran, who was the first to point out that what Pareto and others had observed was a “universal” principle). "
   ]
  },
  {
   "cell_type": "markdown",
   "metadata": {},
   "source": [
    "### Power Law and Power Law Distribution"
   ]
  },
  {
   "cell_type": "markdown",
   "metadata": {},
   "source": [
    "*** \n",
    "The **power law** (also called the scaling law) states that a relative change in one quantity results in a proportional relative change in another. The simplest example of the law in action is a square; if you double the length of a side (say, from 2 to 4 inches) then the area will quadruple (from 4 to 16 inches squared). \n",
    "\n",
    "The power law can be used to describe a phenomenon where a small number of items is clustered at the top of a distribution (or at the bottom), taking up 95% of the resources. In other words, it implies a small amount of occurrences is common, while larger occurrences are rare. For example, where the distribution of income is concerned, there are very few billionaires; the bulk of the population holds very modest nest eggs.\n",
    "\n",
    "<img src=\"zipf-distribution-1.png\">\n",
    "   <figcaption>\n",
    "        <center>\n",
    "            Figure 3: A cluster of values dominates at one end of the graph (Source: statisticshowto.com)\n",
    "        </center>\n",
    "    </figcaption>\n",
    "\n",
    "\n",
    "Other examples of phenomena with this type of distribution:\n",
    " - Distribution of income,\n",
    " - Magnitude of earthquakes,\n",
    " - Size of cities according to population,\n",
    " - Size of corporations,\n",
    " - Trading volumes on the stock market,\n",
    " - Word frequencies.\n",
    " \n",
    "If you plot two quantities against each other with logarithmic axes and they show a linear relationship, this indicates that the two quantities have a power law distribution.\n",
    " \n",
    "<img src=\"power-law-dist.png\">\n",
    "   <figcaption>\n",
    "        <center>\n",
    "            Figure 4: Logarithmic plot of two variables (Source: NIST.gov)\n",
    "        </center>\n",
    "    </figcaption>\n",
    " "
   ]
  },
  {
   "cell_type": "markdown",
   "metadata": {},
   "source": [
    "#### Similar Distributions and Laws"
   ]
  },
  {
   "cell_type": "markdown",
   "metadata": {},
   "source": [
    "A special type of the this type of distribution is the one I want to prove, the **Pareto Principle** (also called the Pareto Law), which is an unscientific “law” that states 80% of effects come from 20% of causes. In other words, most of what we do has little effect.\n",
    "\n",
    "A related law is Zipf’s law which usually refers to the frequency of an event relative to it’s rank. Zipf’s law states that, given a list of the most frequent words in an arbitrary book, the most frequent word will appear twice as often as the second most frequent word, which will appear twice as often as the third most frequent, and so on. In its simplest form, Zipf’s law is equal to the power law. This is a great [video](https://www.youtube.com/watch?v=fCn8zs912OE) for Zipf's law isZipf’s law gives rise to the [Zeta Distribution](https://www.statisticshowto.datasciencecentral.com/zeta-distribution-zipf/)."
   ]
  },
  {
   "cell_type": "markdown",
   "metadata": {},
   "source": [
    "### Experiment "
   ]
  },
  {
   "cell_type": "markdown",
   "metadata": {},
   "source": [
    "***  \n",
    "**Physical experiment:** From a pile of 100 thousand paper clips choose 2 random chains. At the begining all of the chains are single - only one paper clip. Take two randomly selected paper clip chains and merge them into one bigger one. My assumption was that if I repeat this expirement lets say 80% of the number of paper clips (80 thousand times) and analyze the frequency distribution of the length of chains, I will have a Zeta Distribution or in simple words: very small number of long chains, very big number of single and small chains (small 2-5). Since I don't have the time and a large enough table to merge 100 0000 paper clips I thought to do this experiment in a Jupyter notebook. "
   ]
  },
  {
   "cell_type": "markdown",
   "metadata": {},
   "source": [
    "After repating the process of randomly merging 80 thousand times:\n",
    "> <b> Hypothesis: </b> 80% of the paper clips belong to 20% of the longest chains "
   ]
  },
  {
   "cell_type": "markdown",
   "metadata": {},
   "source": [
    "**Reproducible experiment:** The experiment will be coded using Python."
   ]
  },
  {
   "cell_type": "markdown",
   "metadata": {},
   "source": [
    "Imports"
   ]
  },
  {
   "cell_type": "code",
   "execution_count": 1,
   "metadata": {
    "ExecuteTime": {
     "end_time": "2020-01-21T00:41:01.663669Z",
     "start_time": "2020-01-21T00:40:57.287213Z"
    }
   },
   "outputs": [],
   "source": [
    "from random import randint\n",
    "from random import seed\n",
    "from collections import Counter\n",
    "import matplotlib.pyplot as plt\n",
    "import seaborn as sns"
   ]
  },
  {
   "cell_type": "markdown",
   "metadata": {},
   "source": [
    "Create list of 100 thousand paper clips"
   ]
  },
  {
   "cell_type": "code",
   "execution_count": 2,
   "metadata": {
    "ExecuteTime": {
     "end_time": "2020-01-21T00:41:01.681584Z",
     "start_time": "2020-01-21T00:41:01.671610Z"
    }
   },
   "outputs": [],
   "source": [
    "a = [1]*100000"
   ]
  },
  {
   "cell_type": "markdown",
   "metadata": {},
   "source": [
    "Create seed for generating random numbers"
   ]
  },
  {
   "cell_type": "code",
   "execution_count": 3,
   "metadata": {
    "ExecuteTime": {
     "end_time": "2020-01-21T00:41:01.749401Z",
     "start_time": "2020-01-21T00:41:01.696545Z"
    }
   },
   "outputs": [],
   "source": [
    "seed()"
   ]
  },
  {
   "cell_type": "markdown",
   "metadata": {},
   "source": [
    "Randomly join two chains of paper clips 80 thousand times"
   ]
  },
  {
   "cell_type": "code",
   "execution_count": 4,
   "metadata": {
    "ExecuteTime": {
     "end_time": "2020-01-21T00:41:05.365281Z",
     "start_time": "2020-01-21T00:41:01.758378Z"
    }
   },
   "outputs": [],
   "source": [
    "for i in range(0, 80000):\n",
    "    x = randint(0, len(a)-1)\n",
    "    y = randint(0, len(a)-1)\n",
    "    while x == y:\n",
    "        x = randint(0, len(a) - 1)\n",
    "        y = randint(0, len(a) - 1)\n",
    "\n",
    "    z = a[x]+a[y]\n",
    "    a[x] = z\n",
    "    del a[y]"
   ]
  },
  {
   "cell_type": "markdown",
   "metadata": {},
   "source": [
    "Sort the list of values **a**"
   ]
  },
  {
   "cell_type": "code",
   "execution_count": 5,
   "metadata": {
    "ExecuteTime": {
     "end_time": "2020-01-21T00:41:05.389225Z",
     "start_time": "2020-01-21T00:41:05.370269Z"
    }
   },
   "outputs": [],
   "source": [
    "a.sort()"
   ]
  },
  {
   "cell_type": "markdown",
   "metadata": {},
   "source": [
    "Create a counter object, in order to see frequencies easier "
   ]
  },
  {
   "cell_type": "code",
   "execution_count": 6,
   "metadata": {
    "ExecuteTime": {
     "end_time": "2020-01-21T00:41:05.423129Z",
     "start_time": "2020-01-21T00:41:05.402190Z"
    },
    "scrolled": true
   },
   "outputs": [
    {
     "name": "stdout",
     "output_type": "stream",
     "text": [
      "Counter({1: 4022, 2: 3246, 3: 2530, 4: 2091, 5: 1537, 6: 1268, 7: 1062, 8: 840, 9: 681, 10: 547, 11: 462, 12: 331, 13: 282, 14: 232, 15: 177, 16: 137, 17: 107, 18: 79, 19: 72, 20: 65, 21: 49, 22: 38, 23: 32, 24: 25, 25: 19, 26: 17, 27: 9, 31: 8, 29: 7, 30: 5, 33: 5, 28: 4, 34: 4, 36: 3, 32: 1, 35: 1, 38: 1, 40: 1, 42: 1, 43: 1, 49: 1})\n"
     ]
    }
   ],
   "source": [
    "counter = Counter(a)\n",
    "print(counter)"
   ]
  },
  {
   "cell_type": "markdown",
   "metadata": {},
   "source": [
    "Get the lengths of the paper clip lengths and use them as **bins** for the histograms"
   ]
  },
  {
   "cell_type": "code",
   "execution_count": 7,
   "metadata": {
    "ExecuteTime": {
     "end_time": "2020-01-21T00:41:05.446074Z",
     "start_time": "2020-01-21T00:41:05.435097Z"
    }
   },
   "outputs": [],
   "source": [
    "chains = list(counter.keys())"
   ]
  },
  {
   "cell_type": "markdown",
   "metadata": {},
   "source": [
    "Create a simple histogram for the Frequency distribution of paper clip chains using *matplotlib* "
   ]
  },
  {
   "cell_type": "code",
   "execution_count": 8,
   "metadata": {
    "ExecuteTime": {
     "end_time": "2020-01-21T00:41:06.427115Z",
     "start_time": "2020-01-21T00:41:05.463022Z"
    }
   },
   "outputs": [
    {
     "data": {
      "image/png": "[encoded data removed]",
      "text/plain": [
       "<Figure size 432x288 with 1 Axes>"
      ]
     },
     "metadata": {
      "needs_background": "light"
     },
     "output_type": "display_data"
    }
   ],
   "source": [
    "plt.hist(x=a, bins=chains)\n",
    "plt.ylabel('Frequency')\n",
    "plt.xlabel('Chain Length')\n",
    "plt.title('Figure 5: Histogram')\n",
    "plt.xlim(1)\n",
    "plt.show()"
   ]
  },
  {
   "cell_type": "markdown",
   "metadata": {},
   "source": [
    "The distributin clearly has a **Power Law** property, or commonly known for the discrete distributions as **Zipf's Law**. "
   ]
  },
  {
   "cell_type": "code",
   "execution_count": 9,
   "metadata": {
    "ExecuteTime": {
     "end_time": "2020-01-21T00:41:07.234955Z",
     "start_time": "2020-01-21T00:41:06.434093Z"
    }
   },
   "outputs": [
    {
     "data": {
      "image/png": "[encoded data removed]",
      "text/plain": [
       "<Figure size 432x288 with 1 Axes>"
      ]
     },
     "metadata": {
      "needs_background": "light"
     },
     "output_type": "display_data"
    }
   ],
   "source": [
    "sns.distplot(a=a, \n",
    "             bins=chains, \n",
    "             hist = True, \n",
    "             color = 'green', \n",
    "             hist_kws={'edgecolor':'black'}, \n",
    "             kde_kws={'color': 'red', 'linewidth': 1})\n",
    "plt.ylabel('Frequency')\n",
    "plt.xlabel('Chain Length')\n",
    "plt.title('Figure 6: Density Function')\n",
    "plt.xlim(1)\n",
    "plt.show()"
   ]
  },
  {
   "cell_type": "markdown",
   "metadata": {},
   "source": [
    "This density function is a Long Tail fcuntion.  The long tail is the name for a long-known feature of some statistical distributions (such as Zipf, power laws, Pareto distributions and general Lévy distributions). "
   ]
  },
  {
   "cell_type": "markdown",
   "metadata": {},
   "source": [
    "If we put the PDF on a log scale (log on both axis), we get:"
   ]
  },
  {
   "cell_type": "code",
   "execution_count": 10,
   "metadata": {
    "ExecuteTime": {
     "end_time": "2020-01-21T00:41:11.198350Z",
     "start_time": "2020-01-21T00:41:07.242930Z"
    }
   },
   "outputs": [
    {
     "data": {
      "image/png": "[encoded data removed]",
      "text/plain": [
       "<Figure size 432x288 with 1 Axes>"
      ]
     },
     "metadata": {
      "needs_background": "light"
     },
     "output_type": "display_data"
    }
   ],
   "source": [
    "sns.distplot(a=a, \n",
    "             bins=chains,  \n",
    "             hist = False, \n",
    "             color = 'green', \n",
    "             hist_kws={'edgecolor':'black'}, \n",
    "             kde_kws={'shade': False, 'color': 'red', 'linewidth': 1})\n",
    "plt.yscale('log')\n",
    "plt.xscale('log')\n",
    "plt.ylabel('Frequency')\n",
    "plt.xlabel('Chain Length')\n",
    "plt.title('Figure 7: Log Scale of Paper clip Distribution')\n",
    "plt.xlim(1)\n",
    "plt.show()"
   ]
  },
  {
   "cell_type": "markdown",
   "metadata": {},
   "source": [
    "The function is at some parts clearly close to a line, therefore we can say that **the paper clip chain distribution will have the Zipf's law property or a Zeta Distribution**. Since the Pareto Principle is a special case of the Zipf's law, the nll hypothesis is accepted, after doing the process of merging **80% of the paper clips will belong to 20%.** "
   ]
  }
 ],
 "metadata": {
  "kernelspec": {
   "display_name": "Python 3",
   "language": "python",
   "name": "python3"
  },
  "language_info": {
   "codemirror_mode": {
    "name": "ipython",
    "version": 3
   },
   "file_extension": ".py",
   "mimetype": "text/x-python",
   "name": "python",
   "nbconvert_exporter": "python",
   "pygments_lexer": "ipython3",
   "version": "3.6.9"
  },
  "latex_envs": {
   "LaTeX_envs_menu_present": true,
   "autoclose": false,
   "autocomplete": true,
   "bibliofile": "biblio.bib",
   "cite_by": "apalike",
   "current_citInitial": 1,
   "eqLabelWithNumbers": true,
   "eqNumInitial": 1,
   "hotkeys": {
    "equation": "Ctrl-E",
    "itemize": "Ctrl-I"
   },
   "labels_anchors": false,
   "latex_user_defs": false,
   "report_style_numbering": false,
   "user_envs_cfg": false
  },
  "varInspector": {
   "cols": {
    "lenName": 16,
    "lenType": 16,
    "lenVar": 40
   },
   "kernels_config": {
    "python": {
     "delete_cmd_postfix": "",
     "delete_cmd_prefix": "del ",
     "library": "var_list.py",
     "varRefreshCmd": "print(var_dic_list())"
    },
    "r": {
     "delete_cmd_postfix": ") ",
     "delete_cmd_prefix": "rm(",
     "library": "var_list.r",
     "varRefreshCmd": "cat(var_dic_list()) "
    }
   },
   "types_to_exclude": [
    "module",
    "function",
    "builtin_function_or_method",
    "instance",
    "_Feature"
   ],
   "window_display": false
  }
 },
 "nbformat": 4,
 "nbformat_minor": 2
}
